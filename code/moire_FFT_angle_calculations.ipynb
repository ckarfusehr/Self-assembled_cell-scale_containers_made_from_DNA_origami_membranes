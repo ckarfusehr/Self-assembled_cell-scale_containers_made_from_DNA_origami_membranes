{
 "cells": [
  {
   "cell_type": "markdown",
   "metadata": {},
   "source": [
    "## Computing the mean angle of the two hexagonal grids creatig the Moire patterns"
   ]
  },
  {
   "cell_type": "code",
   "execution_count": 1,
   "metadata": {},
   "outputs": [
    {
     "name": "stdout",
     "output_type": "stream",
     "text": [
      "Circular mean angle: -87.10 degrees, Circular standard deviation: 3.00 degrees\n",
      "Mean angular difference: 6.15 degrees, Standard deviation of angular differences: 1.27 degrees\n",
      "Mean angular difference: 11.36 degrees, Standard deviation of angular differences: 0.32 degrees\n",
      "Mean angular difference: 16.32 degrees, Standard deviation of angular differences: 0.40 degrees\n",
      "Mean angular difference: 28.06 degrees, Standard deviation of angular differences: 0.22 degrees\n"
     ]
    }
   ],
   "source": [
    "import pandas as pd\n",
    "import numpy as np\n",
    "\n",
    "# Function to compute the circular mean and standard deviation of angles\n",
    "def circular_mean_std(angles):\n",
    "    radians = np.deg2rad(angles)\n",
    "    sum_sin = np.sum(np.sin(radians))\n",
    "    sum_cos = np.sum(np.cos(radians))\n",
    "    mean_angle_rad = np.arctan2(sum_sin, sum_cos)\n",
    "    mean_angle = np.rad2deg(mean_angle_rad)\n",
    "    R = np.sqrt(sum_sin**2 + sum_cos**2) / len(radians)\n",
    "    std = np.sqrt(-2 * np.log(R))\n",
    "    return mean_angle, std\n",
    "\n",
    "# Function to find the closest pairs of angles and compute their angular differences\n",
    "def closest_pairs(angles):\n",
    "    angular_diffs = []\n",
    "    for angle in angles:\n",
    "        diff = np.abs(angles - angle)\n",
    "        diff = np.minimum(diff, 360 - diff)\n",
    "        sorted_diff = np.sort(diff)\n",
    "        closest_diff = sorted_diff[1]  # the second smallest diff (first is always 0)\n",
    "        angular_diffs.append(closest_diff)\n",
    "    return angular_diffs[::2]  # Taking every second element to avoid duplicates\n",
    "\n",
    "# File paths\n",
    "files = [\n",
    "    \"../data/FFT_maxima_extraction/FFT_fig5e_right_peaks.csv\",\n",
    "    \"../data/FFT_maxima_extraction/FFT_fig5e_middle_right_peaks.csv\",\n",
    "    \"../data/FFT_maxima_extraction/FFT_fig5e_middle_peaks.csv\",\n",
    "    \"../data/FFT_maxima_extraction/FFT_fig5e_middle_left_peaks.csv\",\n",
    "    '../data/FFT_maxima_extraction/FFT_fig5e_left_peaks.csv'\n",
    "]\n",
    "\n",
    "# Reading in all dataframes\n",
    "dfs = [pd.read_csv(file) for file in files]\n",
    "\n",
    "# Filtering out rows with a \"R\" value greater than 500\n",
    "dfs_filtered = [df[df[\"R\"] <= 500] for df in dfs]\n",
    "\n",
    "# Processing each dataframe\n",
    "for df in dfs_filtered:\n",
    "    if len(df) == 6:\n",
    "        # Compute circular mean and standard deviation for 6-row dataframe\n",
    "        mean_angle, std_angle = circular_mean_std(df[\"Theta\"])\n",
    "        print(f\"Circular mean angle: {mean_angle:.2f} degrees, Circular standard deviation: {std_angle:.2f} degrees\")\n",
    "    elif len(df) == 12:\n",
    "        # Analyze 12-row dataframe\n",
    "        angular_diffs = closest_pairs(df[\"Theta\"])\n",
    "        mean_diff = np.mean(angular_diffs)\n",
    "        std_diff = np.std(angular_diffs)\n",
    "        print(f\"Mean angular difference: {mean_diff:.2f} degrees, Standard deviation of angular differences: {std_diff:.2f} degrees\")\n",
    "    else:\n",
    "        print(\"Unexpected number of rows in dataframe.\")\n"
   ]
  },
  {
   "cell_type": "code",
   "execution_count": null,
   "metadata": {},
   "outputs": [],
   "source": []
  }
 ],
 "metadata": {
  "kernelspec": {
   "display_name": "desicle_paper",
   "language": "python",
   "name": "python3"
  },
  "language_info": {
   "codemirror_mode": {
    "name": "ipython",
    "version": 3
   },
   "file_extension": ".py",
   "mimetype": "text/x-python",
   "name": "python",
   "nbconvert_exporter": "python",
   "pygments_lexer": "ipython3",
   "version": "3.11.5"
  }
 },
 "nbformat": 4,
 "nbformat_minor": 2
}
