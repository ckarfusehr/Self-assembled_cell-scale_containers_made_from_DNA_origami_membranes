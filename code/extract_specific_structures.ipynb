{
 "cells": [
  {
   "cell_type": "markdown",
   "metadata": {},
   "source": [
    "# Notebook to extract sequences in IDT format for input geometries and intended radii\n",
    "\n",
    "Note that this notebook will try to find the sequences where the calibrated radii best fit the input. Check for the predicted calibrated radii in the file name title"
   ]
  },
  {
   "cell_type": "markdown",
   "metadata": {},
   "source": [
    "## Setting up environment"
   ]
  },
  {
   "cell_type": "code",
   "execution_count": 2,
   "metadata": {},
   "outputs": [],
   "source": [
    "import pandas as pd\n",
    "import csv\n",
    "\n",
    "output_folder = \"./example_extracted_sequences\""
   ]
  },
  {
   "cell_type": "markdown",
   "metadata": {},
   "source": [
    "## Prepare \"get_sequences()\" function"
   ]
  },
  {
   "cell_type": "markdown",
   "metadata": {},
   "source": [
    "#### Read in unique staple datasets"
   ]
  },
  {
   "cell_type": "code",
   "execution_count": 3,
   "metadata": {},
   "outputs": [
    {
     "data": {
      "text/html": [
       "<div>\n",
       "<style scoped>\n",
       "    .dataframe tbody tr th:only-of-type {\n",
       "        vertical-align: middle;\n",
       "    }\n",
       "\n",
       "    .dataframe tbody tr th {\n",
       "        vertical-align: top;\n",
       "    }\n",
       "\n",
       "    .dataframe thead th {\n",
       "        text-align: right;\n",
       "    }\n",
       "</style>\n",
       "<table border=\"1\" class=\"dataframe\">\n",
       "  <thead>\n",
       "    <tr style=\"text-align: right;\">\n",
       "      <th></th>\n",
       "      <th>r_naive</th>\n",
       "      <th>r_container_calibrated</th>\n",
       "      <th>circum_naive</th>\n",
       "      <th>number of monomers</th>\n",
       "      <th>Modified_Lines</th>\n",
       "      <th>source</th>\n",
       "      <th>r_tube_naive</th>\n",
       "      <th>r_tube_calibrated</th>\n",
       "      <th>r_container_calibrated_avg</th>\n",
       "      <th>r_tube_calibrated_avg</th>\n",
       "    </tr>\n",
       "  </thead>\n",
       "  <tbody>\n",
       "    <tr>\n",
       "      <th>14</th>\n",
       "      <td>66</td>\n",
       "      <td>79.0</td>\n",
       "      <td>414.690</td>\n",
       "      <td>66.14</td>\n",
       "      <td>{'2.1': 'ACGCCAGCTGGCGGGGGAAAGGAACCCTAAAGGGAGA...</td>\n",
       "      <td>container</td>\n",
       "      <td>NaN</td>\n",
       "      <td>NaN</td>\n",
       "      <td>79.0</td>\n",
       "      <td>NaN</td>\n",
       "    </tr>\n",
       "    <tr>\n",
       "      <th>36</th>\n",
       "      <td>115 - 120</td>\n",
       "      <td>139.0 - 145.0</td>\n",
       "      <td>738.275</td>\n",
       "      <td>209.66</td>\n",
       "      <td>{'2.1': 'ACGCCAGCTGGCGGGGGAAAGGAACCCTAAAGGGAGA...</td>\n",
       "      <td>container</td>\n",
       "      <td>NaN</td>\n",
       "      <td>NaN</td>\n",
       "      <td>142.0</td>\n",
       "      <td>NaN</td>\n",
       "    </tr>\n",
       "  </tbody>\n",
       "</table>\n",
       "</div>"
      ],
      "text/plain": [
       "      r_naive r_container_calibrated  circum_naive  number of monomers  \\\n",
       "14         66                   79.0       414.690               66.14   \n",
       "36  115 - 120          139.0 - 145.0       738.275              209.66   \n",
       "\n",
       "                                       Modified_Lines     source r_tube_naive  \\\n",
       "14  {'2.1': 'ACGCCAGCTGGCGGGGGAAAGGAACCCTAAAGGGAGA...  container          NaN   \n",
       "36  {'2.1': 'ACGCCAGCTGGCGGGGGAAAGGAACCCTAAAGGGAGA...  container          NaN   \n",
       "\n",
       "   r_tube_calibrated  r_container_calibrated_avg  r_tube_calibrated_avg  \n",
       "14               NaN                        79.0                    NaN  \n",
       "36               NaN                       142.0                    NaN  "
      ]
     },
     "execution_count": 3,
     "metadata": {},
     "output_type": "execute_result"
    }
   ],
   "source": [
    "# Load the files into pandas dataframes\n",
    "file_container = \"../origami/DNA_sequences/complete_lists_of_precomputed_seqeunces/container_seq_unique_8T.csv\"\n",
    "file_tube = \"../origami/DNA_sequences/complete_lists_of_precomputed_seqeunces/tube_seq_unique_8T.csv\"\n",
    "\n",
    "# Read the files with an extra column for the file name\n",
    "df_container = pd.read_csv(file_container)\n",
    "df_container['source'] = 'container'\n",
    "\n",
    "df_tube = pd.read_csv(file_tube)\n",
    "df_tube['source'] = 'tube'\n",
    "\n",
    "# Combine the dataframes\n",
    "df_combined = pd.concat([df_container, df_tube], ignore_index=True)\n",
    "\n",
    "# Function to parse range values in the dataframe\n",
    "def parse_range(value):\n",
    "    \"\"\"\n",
    "    Parses a string that potentially represents a range and returns the average value.\n",
    "    If the value is a single number, it just converts it to float.\n",
    "    Handles NaN values and non-string inputs.\n",
    "    \"\"\"\n",
    "    if pd.isna(value):\n",
    "        return None\n",
    "    if isinstance(value, float):\n",
    "        return value\n",
    "    if \"-\" in value:\n",
    "        parts = value.split('-')\n",
    "        return (float(parts[0].strip()) + float(parts[1].strip())) / 2\n",
    "    else:\n",
    "        return float(value)\n",
    "\n",
    "# Apply the function to relevant columns\n",
    "df_combined['r_container_calibrated_avg'] = df_combined['r_container_calibrated'].apply(parse_range)\n",
    "df_combined['r_tube_calibrated_avg'] = df_combined['r_tube_calibrated'].apply(parse_range)\n",
    "\n",
    "df_combined.sample(2)"
   ]
  },
  {
   "cell_type": "markdown",
   "metadata": {},
   "source": [
    "## Define extractiona dn formatting functions"
   ]
  },
  {
   "cell_type": "code",
   "execution_count": 4,
   "metadata": {},
   "outputs": [],
   "source": [
    "def find_closest_rows(df, container=[], tube=[]):\n",
    "    \"\"\"\n",
    "    Function to find the rows where the column value \"r_container_calibrated\" or \"r_tube_calibrated\"\n",
    "    is closest to the integers provided in the container or tube lists.\n",
    "\n",
    "    Args:\n",
    "    df (DataFrame): The dataframe to search in.\n",
    "    container (list): List of integers to find closest values in \"r_container_calibrated\".\n",
    "    tube (list): List of integers to find closest values in \"r_tube_calibrated\".\n",
    "    plane (bool): Flag to determine whether to use \"plane\" logic. (Currently not used)\n",
    "\n",
    "    Returns:\n",
    "    DataFrame: A dataframe with the closest rows.\n",
    "    \"\"\"\n",
    "    closest_rows = []\n",
    "\n",
    "    for number in container:\n",
    "        # Calculate the absolute difference and find the row with minimum difference\n",
    "        df['diff_container'] = abs(df['r_container_calibrated_avg'] - number)\n",
    "        closest_row = df.loc[df['diff_container'].idxmin()]\n",
    "        closest_rows.append(closest_row)\n",
    "\n",
    "    for number in tube:\n",
    "        # Calculate the absolute difference and find the row with minimum difference\n",
    "        df['diff_tube'] = abs(df['r_tube_calibrated_avg'] - number)\n",
    "        closest_row = df.loc[df['diff_tube'].idxmin()]\n",
    "        closest_rows.append(closest_row)\n",
    "\n",
    "    return pd.DataFrame(closest_rows)\n",
    "\n",
    "    \n",
    "def create_csv_files_for_each_design(df):\n",
    "    \"\"\"\n",
    "    Creates CSV files for each row in the dataframe with limited keys.\n",
    "\n",
    "    Args:\n",
    "    df (DataFrame): DataFrame containing the closest rows.\n",
    "    output_folder (str): Path to the folder where the CSV files will be saved.\n",
    "    \"\"\"\n",
    "    # Generate well names (A1, A2, ..., H12)\n",
    "    wells = [f\"{chr(row)}{col}\" for row in range(65, 73) for col in range(1, 13)]\n",
    "\n",
    "    for index, row in df.iterrows():\n",
    "        design_type = df[\"source\"][index]\n",
    "        if design_type == \"container\":\n",
    "            mean_cal_radii = df[\"r_container_calibrated_avg\"][index]\n",
    "        elif design_type == \"tube\":\n",
    "            mean_cal_radii = df[\"r_tube_calibrated_avg\"][index]\n",
    "        \n",
    "        file_name = f\"{output_folder}/{design_type}_closest_r_cal_{mean_cal_radii}_nm.csv\"\n",
    "        \n",
    "        with open(file_name, 'w', newline='') as file:\n",
    "            writer = csv.writer(file)\n",
    "            writer.writerow([\"Well Position\",\"Name\", \"Sequence\"])  # Write header\n",
    "\n",
    "            # Get Modified_Lines as a dictionary\n",
    "            modified_lines = eval(row['Modified_Lines'])\n",
    "\n",
    "            for i, well in enumerate(wells):\n",
    "                if i >= len(modified_lines):\n",
    "                    break  # Stop adding rows once all keys have been used\n",
    "\n",
    "                # Extract sequence and name for each well\n",
    "                sequence = list(modified_lines.values())[i]\n",
    "                name = f\"{design_type}_r_cal_{mean_cal_radii}_nm_\" + list(modified_lines.keys())[i]\n",
    "\n",
    "                writer.writerow([well, name,sequence])\n",
    "\n",
    "    return\n",
    "\n",
    "def get_sequences(container=[], tube=[]):\n",
    "    unformatted_results = find_closest_rows(df_combined, container=container, tube=tube)\n",
    "    create_csv_files_for_each_design(unformatted_results)\n",
    "    \n",
    "    return"
   ]
  },
  {
   "cell_type": "markdown",
   "metadata": {},
   "source": [
    "## Getting formatted sequences for wanted radii\n"
   ]
  },
  {
   "cell_type": "code",
   "execution_count": 6,
   "metadata": {},
   "outputs": [],
   "source": [
    "#### Example use ####\n",
    "# Use the follwoing to get csv. files for cotnainer with radii close to 60 and 100nm and for one tube with a radii close to 80 nm. \n",
    "# The csv files are automatically saved at the path given when setting up the Environment above\n",
    "get_sequences(container=[60,300], tube=[50,80])\n"
   ]
  }
 ],
 "metadata": {
  "kernelspec": {
   "display_name": "all_purpose",
   "language": "python",
   "name": "python3"
  },
  "language_info": {
   "codemirror_mode": {
    "name": "ipython",
    "version": 3
   },
   "file_extension": ".py",
   "mimetype": "text/x-python",
   "name": "python",
   "nbconvert_exporter": "python",
   "pygments_lexer": "ipython3",
   "version": "3.10.10"
  }
 },
 "nbformat": 4,
 "nbformat_minor": 2
}
